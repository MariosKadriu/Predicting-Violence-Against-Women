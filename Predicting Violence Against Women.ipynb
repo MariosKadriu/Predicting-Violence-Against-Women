{
 "cells": [
  {
   "cell_type": "code",
   "execution_count": 1,
   "id": "f393add3",
   "metadata": {},
   "outputs": [],
   "source": [
    "import timeit\n",
    "import warnings\n",
    "warnings.filterwarnings(\"ignore\")\n",
    "\n",
    "# Import necessary libraries\n",
    "import numpy as np\n",
    "import pandas as pd\n",
    "import matplotlib.pyplot as plt\n",
    "from sklearn.model_selection import KFold\n",
    "from sklearn.impute import SimpleImputer\n",
    "from sklearn.impute import KNNImputer\n",
    "from sklearn.preprocessing import OneHotEncoder\n",
    "from sklearn.preprocessing import MinMaxScaler\n",
    "from sklearn.decomposition import PCA\n",
    "from imblearn.over_sampling import RandomOverSampler\n",
    "from sklearn import metrics\n",
    "\n",
    "# Import algorithms\n",
    "from sklearn.linear_model import LogisticRegression\n",
    "from sklearn.tree import DecisionTreeClassifier\n",
    "from sklearn.ensemble import RandomForestClassifier\n",
    "from sklearn.neighbors import KNeighborsClassifier\n",
    "from sklearn.naive_bayes import GaussianNB\n",
    "from sklearn.neural_network import MLPClassifier\n",
    "from sklearn.svm import SVC\n",
    "from xgboost import XGBClassifier"
   ]
  },
  {
   "cell_type": "code",
   "execution_count": 2,
   "id": "a1996744",
   "metadata": {},
   "outputs": [],
   "source": [
    "# Load data using the Pandas Library\n",
    "df = pd.read_csv(\"data/VAW.csv\")"
   ]
  },
  {
   "cell_type": "markdown",
   "id": "52d9f1d3",
   "metadata": {},
   "source": [
    "## Exploratory Data Analysis (EDA)"
   ]
  },
  {
   "cell_type": "code",
   "execution_count": 3,
   "id": "b684e59d",
   "metadata": {},
   "outputs": [
    {
     "data": {
      "text/html": [
       "<div>\n",
       "<style scoped>\n",
       "    .dataframe tbody tr th:only-of-type {\n",
       "        vertical-align: middle;\n",
       "    }\n",
       "\n",
       "    .dataframe tbody tr th {\n",
       "        vertical-align: top;\n",
       "    }\n",
       "\n",
       "    .dataframe thead th {\n",
       "        text-align: right;\n",
       "    }\n",
       "</style>\n",
       "<table border=\"1\" class=\"dataframe\">\n",
       "  <thead>\n",
       "    <tr style=\"text-align: right;\">\n",
       "      <th></th>\n",
       "      <th>DATAFLOW</th>\n",
       "      <th>FREQ: Frequency</th>\n",
       "      <th>TIME_PERIOD: Time</th>\n",
       "      <th>GEO_PICT: Pacific Island Countries and territories</th>\n",
       "      <th>TOPIC: Topic</th>\n",
       "      <th>INDICATOR: Indicator</th>\n",
       "      <th>SEX: Sex</th>\n",
       "      <th>AGE: Age</th>\n",
       "      <th>CONDITION: Women’s condition</th>\n",
       "      <th>VIOLENCE_TYPE: Type of violence</th>\n",
       "      <th>...</th>\n",
       "      <th>OUTCOME: Outcome</th>\n",
       "      <th>RESPONSE: Response</th>\n",
       "      <th>HELP_REASON: Reason for searching help</th>\n",
       "      <th>HELP_PROVIDER: Help provider</th>\n",
       "      <th>OBS_VALUE</th>\n",
       "      <th>UNIT_MEASURE: Unit of measure</th>\n",
       "      <th>UNIT_MULT: Unit multiplier</th>\n",
       "      <th>OBS_STATUS: Observation Status</th>\n",
       "      <th>DATA_SOURCE: Data source</th>\n",
       "      <th>OBS_COMMENT: Comment</th>\n",
       "    </tr>\n",
       "  </thead>\n",
       "  <tbody>\n",
       "    <tr>\n",
       "      <th>0</th>\n",
       "      <td>SPC:DF_VAW(1.0)</td>\n",
       "      <td>A: Annual</td>\n",
       "      <td>2013</td>\n",
       "      <td>CK: Cook Islands</td>\n",
       "      <td>VAW_TOPIC_001: Types of violence against women...</td>\n",
       "      <td>NUMPERRF: Number of persons in relative frequency</td>\n",
       "      <td>F: Female</td>\n",
       "      <td>Y15T64: 15-64</td>\n",
       "      <td>EVPART: Ever-partnered</td>\n",
       "      <td>CONT_ECON: At least one act of economic abusive</td>\n",
       "      <td>...</td>\n",
       "      <td>_T: Any</td>\n",
       "      <td>_T: Any</td>\n",
       "      <td>_T: Any</td>\n",
       "      <td>_T: Any</td>\n",
       "      <td>6.2</td>\n",
       "      <td>PERCENT: percent</td>\n",
       "      <td>NaN</td>\n",
       "      <td>NaN</td>\n",
       "      <td>FHSS</td>\n",
       "      <td>NaN</td>\n",
       "    </tr>\n",
       "    <tr>\n",
       "      <th>1</th>\n",
       "      <td>SPC:DF_VAW(1.0)</td>\n",
       "      <td>A: Annual</td>\n",
       "      <td>2013</td>\n",
       "      <td>CK: Cook Islands</td>\n",
       "      <td>VAW_TOPIC_001: Types of violence against women...</td>\n",
       "      <td>NUMPERRF: Number of persons in relative frequency</td>\n",
       "      <td>F: Female</td>\n",
       "      <td>Y15T64: 15-64</td>\n",
       "      <td>EVPART: Ever-partnered</td>\n",
       "      <td>EMO: Emotional violence</td>\n",
       "      <td>...</td>\n",
       "      <td>_T: Any</td>\n",
       "      <td>_T: Any</td>\n",
       "      <td>_T: Any</td>\n",
       "      <td>_T: Any</td>\n",
       "      <td>9.6</td>\n",
       "      <td>PERCENT: percent</td>\n",
       "      <td>NaN</td>\n",
       "      <td>NaN</td>\n",
       "      <td>FHSS</td>\n",
       "      <td>NaN</td>\n",
       "    </tr>\n",
       "    <tr>\n",
       "      <th>2</th>\n",
       "      <td>SPC:DF_VAW(1.0)</td>\n",
       "      <td>A: Annual</td>\n",
       "      <td>2013</td>\n",
       "      <td>CK: Cook Islands</td>\n",
       "      <td>VAW_TOPIC_001: Types of violence against women...</td>\n",
       "      <td>NUMPERRF: Number of persons in relative frequency</td>\n",
       "      <td>F: Female</td>\n",
       "      <td>Y15T64: 15-64</td>\n",
       "      <td>EVPART: Ever-partnered</td>\n",
       "      <td>EMO: Emotional violence</td>\n",
       "      <td>...</td>\n",
       "      <td>_T: Any</td>\n",
       "      <td>_T: Any</td>\n",
       "      <td>_T: Any</td>\n",
       "      <td>_T: Any</td>\n",
       "      <td>26.7</td>\n",
       "      <td>PERCENT: percent</td>\n",
       "      <td>NaN</td>\n",
       "      <td>NaN</td>\n",
       "      <td>FHSS</td>\n",
       "      <td>NaN</td>\n",
       "    </tr>\n",
       "    <tr>\n",
       "      <th>3</th>\n",
       "      <td>SPC:DF_VAW(1.0)</td>\n",
       "      <td>A: Annual</td>\n",
       "      <td>2013</td>\n",
       "      <td>CK: Cook Islands</td>\n",
       "      <td>VAW_TOPIC_001: Types of violence against women...</td>\n",
       "      <td>NUMPERRF: Number of persons in relative frequency</td>\n",
       "      <td>F: Female</td>\n",
       "      <td>Y15T64: 15-64</td>\n",
       "      <td>EVPART: Ever-partnered</td>\n",
       "      <td>PHYS: Physical violence</td>\n",
       "      <td>...</td>\n",
       "      <td>_T: Any</td>\n",
       "      <td>_T: Any</td>\n",
       "      <td>_T: Any</td>\n",
       "      <td>_T: Any</td>\n",
       "      <td>6.7</td>\n",
       "      <td>PERCENT: percent</td>\n",
       "      <td>NaN</td>\n",
       "      <td>NaN</td>\n",
       "      <td>FHSS</td>\n",
       "      <td>NaN</td>\n",
       "    </tr>\n",
       "    <tr>\n",
       "      <th>4</th>\n",
       "      <td>SPC:DF_VAW(1.0)</td>\n",
       "      <td>A: Annual</td>\n",
       "      <td>2013</td>\n",
       "      <td>CK: Cook Islands</td>\n",
       "      <td>VAW_TOPIC_001: Types of violence against women...</td>\n",
       "      <td>NUMPERRF: Number of persons in relative frequency</td>\n",
       "      <td>F: Female</td>\n",
       "      <td>Y15T64: 15-64</td>\n",
       "      <td>EVPART: Ever-partnered</td>\n",
       "      <td>PHYS: Physical violence</td>\n",
       "      <td>...</td>\n",
       "      <td>_T: Any</td>\n",
       "      <td>_T: Any</td>\n",
       "      <td>_T: Any</td>\n",
       "      <td>_T: Any</td>\n",
       "      <td>30.2</td>\n",
       "      <td>PERCENT: percent</td>\n",
       "      <td>NaN</td>\n",
       "      <td>NaN</td>\n",
       "      <td>FHSS</td>\n",
       "      <td>NaN</td>\n",
       "    </tr>\n",
       "  </tbody>\n",
       "</table>\n",
       "<p>5 rows × 23 columns</p>\n",
       "</div>"
      ],
      "text/plain": [
       "          DATAFLOW FREQ: Frequency  TIME_PERIOD: Time  \\\n",
       "0  SPC:DF_VAW(1.0)       A: Annual               2013   \n",
       "1  SPC:DF_VAW(1.0)       A: Annual               2013   \n",
       "2  SPC:DF_VAW(1.0)       A: Annual               2013   \n",
       "3  SPC:DF_VAW(1.0)       A: Annual               2013   \n",
       "4  SPC:DF_VAW(1.0)       A: Annual               2013   \n",
       "\n",
       "  GEO_PICT: Pacific Island Countries and territories  \\\n",
       "0                                   CK: Cook Islands   \n",
       "1                                   CK: Cook Islands   \n",
       "2                                   CK: Cook Islands   \n",
       "3                                   CK: Cook Islands   \n",
       "4                                   CK: Cook Islands   \n",
       "\n",
       "                                        TOPIC: Topic  \\\n",
       "0  VAW_TOPIC_001: Types of violence against women...   \n",
       "1  VAW_TOPIC_001: Types of violence against women...   \n",
       "2  VAW_TOPIC_001: Types of violence against women...   \n",
       "3  VAW_TOPIC_001: Types of violence against women...   \n",
       "4  VAW_TOPIC_001: Types of violence against women...   \n",
       "\n",
       "                                INDICATOR: Indicator   SEX: Sex  \\\n",
       "0  NUMPERRF: Number of persons in relative frequency  F: Female   \n",
       "1  NUMPERRF: Number of persons in relative frequency  F: Female   \n",
       "2  NUMPERRF: Number of persons in relative frequency  F: Female   \n",
       "3  NUMPERRF: Number of persons in relative frequency  F: Female   \n",
       "4  NUMPERRF: Number of persons in relative frequency  F: Female   \n",
       "\n",
       "        AGE: Age CONDITION: Women’s condition  \\\n",
       "0  Y15T64: 15-64       EVPART: Ever-partnered   \n",
       "1  Y15T64: 15-64       EVPART: Ever-partnered   \n",
       "2  Y15T64: 15-64       EVPART: Ever-partnered   \n",
       "3  Y15T64: 15-64       EVPART: Ever-partnered   \n",
       "4  Y15T64: 15-64       EVPART: Ever-partnered   \n",
       "\n",
       "                   VIOLENCE_TYPE: Type of violence  ... OUTCOME: Outcome  \\\n",
       "0  CONT_ECON: At least one act of economic abusive  ...          _T: Any   \n",
       "1                          EMO: Emotional violence  ...          _T: Any   \n",
       "2                          EMO: Emotional violence  ...          _T: Any   \n",
       "3                          PHYS: Physical violence  ...          _T: Any   \n",
       "4                          PHYS: Physical violence  ...          _T: Any   \n",
       "\n",
       "  RESPONSE: Response HELP_REASON: Reason for searching help  \\\n",
       "0            _T: Any                                _T: Any   \n",
       "1            _T: Any                                _T: Any   \n",
       "2            _T: Any                                _T: Any   \n",
       "3            _T: Any                                _T: Any   \n",
       "4            _T: Any                                _T: Any   \n",
       "\n",
       "  HELP_PROVIDER: Help provider OBS_VALUE UNIT_MEASURE: Unit of measure  \\\n",
       "0                      _T: Any       6.2              PERCENT: percent   \n",
       "1                      _T: Any       9.6              PERCENT: percent   \n",
       "2                      _T: Any      26.7              PERCENT: percent   \n",
       "3                      _T: Any       6.7              PERCENT: percent   \n",
       "4                      _T: Any      30.2              PERCENT: percent   \n",
       "\n",
       "  UNIT_MULT: Unit multiplier  OBS_STATUS: Observation Status  \\\n",
       "0                        NaN                             NaN   \n",
       "1                        NaN                             NaN   \n",
       "2                        NaN                             NaN   \n",
       "3                        NaN                             NaN   \n",
       "4                        NaN                             NaN   \n",
       "\n",
       "  DATA_SOURCE: Data source  OBS_COMMENT: Comment  \n",
       "0                     FHSS                   NaN  \n",
       "1                     FHSS                   NaN  \n",
       "2                     FHSS                   NaN  \n",
       "3                     FHSS                   NaN  \n",
       "4                     FHSS                   NaN  \n",
       "\n",
       "[5 rows x 23 columns]"
      ]
     },
     "execution_count": 3,
     "metadata": {},
     "output_type": "execute_result"
    }
   ],
   "source": [
    "df.head()"
   ]
  },
  {
   "cell_type": "code",
   "execution_count": 4,
   "id": "a2fedcee",
   "metadata": {},
   "outputs": [
    {
     "name": "stdout",
     "output_type": "stream",
     "text": [
      "<class 'pandas.core.frame.DataFrame'>\n",
      "RangeIndex: 2016 entries, 0 to 2015\n",
      "Data columns (total 23 columns):\n",
      " #   Column                                              Non-Null Count  Dtype  \n",
      "---  ------                                              --------------  -----  \n",
      " 0   DATAFLOW                                            2016 non-null   object \n",
      " 1   FREQ: Frequency                                     2016 non-null   object \n",
      " 2   TIME_PERIOD: Time                                   2016 non-null   int64  \n",
      " 3   GEO_PICT: Pacific Island Countries and territories  2016 non-null   object \n",
      " 4   TOPIC: Topic                                        2016 non-null   object \n",
      " 5   INDICATOR: Indicator                                2016 non-null   object \n",
      " 6   SEX: Sex                                            2016 non-null   object \n",
      " 7   AGE: Age                                            2016 non-null   object \n",
      " 8   CONDITION: Women’s condition                        2016 non-null   object \n",
      " 9   VIOLENCE_TYPE: Type of violence                     2016 non-null   object \n",
      " 10  PERPETRATOR: Perpetrator                            2016 non-null   object \n",
      " 11  ACTUALITY: Actuality                                2016 non-null   object \n",
      " 12  LIFEPER: Period of life                             2016 non-null   object \n",
      " 13  OUTCOME: Outcome                                    2016 non-null   object \n",
      " 14  RESPONSE: Response                                  2016 non-null   object \n",
      " 15  HELP_REASON: Reason for searching help              2016 non-null   object \n",
      " 16  HELP_PROVIDER: Help provider                        2016 non-null   object \n",
      " 17  OBS_VALUE                                           1234 non-null   float64\n",
      " 18  UNIT_MEASURE: Unit of measure                       2016 non-null   object \n",
      " 19  UNIT_MULT: Unit multiplier                          0 non-null      float64\n",
      " 20  OBS_STATUS: Observation Status                      763 non-null    object \n",
      " 21  DATA_SOURCE: Data source                            2016 non-null   object \n",
      " 22  OBS_COMMENT: Comment                                1013 non-null   object \n",
      "dtypes: float64(2), int64(1), object(20)\n",
      "memory usage: 362.4+ KB\n"
     ]
    }
   ],
   "source": [
    "df.info()"
   ]
  },
  {
   "cell_type": "code",
   "execution_count": 5,
   "id": "8312b7bc",
   "metadata": {},
   "outputs": [
    {
     "data": {
      "text/plain": [
       "SPC:DF_VAW(1.0)    2016\n",
       "Name: DATAFLOW, dtype: int64"
      ]
     },
     "execution_count": 5,
     "metadata": {},
     "output_type": "execute_result"
    }
   ],
   "source": [
    "df[\"DATAFLOW\"].value_counts()"
   ]
  },
  {
   "cell_type": "code",
   "execution_count": 6,
   "id": "8d186c8c",
   "metadata": {},
   "outputs": [
    {
     "data": {
      "text/plain": [
       "A: Annual    2016\n",
       "Name: FREQ: Frequency, dtype: int64"
      ]
     },
     "execution_count": 6,
     "metadata": {},
     "output_type": "execute_result"
    }
   ],
   "source": [
    "df[\"FREQ: Frequency\"].value_counts()"
   ]
  },
  {
   "cell_type": "code",
   "execution_count": 7,
   "id": "5c6aa360",
   "metadata": {},
   "outputs": [
    {
     "data": {
      "text/plain": [
       "NUMPERRF: Number of persons in relative frequency    2016\n",
       "Name: INDICATOR: Indicator, dtype: int64"
      ]
     },
     "execution_count": 7,
     "metadata": {},
     "output_type": "execute_result"
    }
   ],
   "source": [
    "df[\"INDICATOR: Indicator\"].value_counts()"
   ]
  },
  {
   "cell_type": "code",
   "execution_count": 8,
   "id": "6517d211",
   "metadata": {},
   "outputs": [
    {
     "data": {
      "text/plain": [
       "F: Female    2016\n",
       "Name: SEX: Sex, dtype: int64"
      ]
     },
     "execution_count": 8,
     "metadata": {},
     "output_type": "execute_result"
    }
   ],
   "source": [
    "df[\"SEX: Sex\"].value_counts()"
   ]
  },
  {
   "cell_type": "code",
   "execution_count": 9,
   "id": "4ae36cab",
   "metadata": {},
   "outputs": [
    {
     "data": {
      "text/plain": [
       "Y15T64: 15-64    2016\n",
       "Name: AGE: Age, dtype: int64"
      ]
     },
     "execution_count": 9,
     "metadata": {},
     "output_type": "execute_result"
    }
   ],
   "source": [
    "df[\"AGE: Age\"].value_counts()"
   ]
  },
  {
   "cell_type": "code",
   "execution_count": 10,
   "id": "21b17914",
   "metadata": {},
   "outputs": [
    {
     "data": {
      "text/plain": [
       "PERCENT: percent    2016\n",
       "Name: UNIT_MEASURE: Unit of measure, dtype: int64"
      ]
     },
     "execution_count": 10,
     "metadata": {},
     "output_type": "execute_result"
    }
   ],
   "source": [
    "df[\"UNIT_MEASURE: Unit of measure\"].value_counts()"
   ]
  },
  {
   "cell_type": "code",
   "execution_count": 11,
   "id": "30a5c4e2",
   "metadata": {},
   "outputs": [
    {
     "data": {
      "text/plain": [
       "Series([], Name: UNIT_MULT: Unit multiplier, dtype: int64)"
      ]
     },
     "execution_count": 11,
     "metadata": {},
     "output_type": "execute_result"
    }
   ],
   "source": [
    "df[\"UNIT_MULT: Unit multiplier\"].value_counts()"
   ]
  },
  {
   "cell_type": "code",
   "execution_count": 12,
   "id": "581cd9dd",
   "metadata": {},
   "outputs": [
    {
     "data": {
      "text/plain": [
       "2016"
      ]
     },
     "execution_count": 12,
     "metadata": {},
     "output_type": "execute_result"
    }
   ],
   "source": [
    "df[\"UNIT_MULT: Unit multiplier\"].isnull().sum()"
   ]
  },
  {
   "cell_type": "code",
   "execution_count": 13,
   "id": "0f7a8d13",
   "metadata": {},
   "outputs": [
    {
     "data": {
      "text/plain": [
       "NaN                 1253\n",
       "O: Missing value     763\n",
       "Name: OBS_STATUS: Observation Status, dtype: int64"
      ]
     },
     "execution_count": 13,
     "metadata": {},
     "output_type": "execute_result"
    }
   ],
   "source": [
    "df[\"OBS_STATUS: Observation Status\"].value_counts(dropna=False)"
   ]
  },
  {
   "cell_type": "code",
   "execution_count": 14,
   "id": "7d18ede4",
   "metadata": {},
   "outputs": [
    {
     "data": {
      "image/png": "[encoded data removed]",
      "text/plain": [
       "<Figure size 432x288 with 1 Axes>"
      ]
     },
     "metadata": {
      "needs_background": "light"
     },
     "output_type": "display_data"
    }
   ],
   "source": [
    "df[\"TIME_PERIOD: Time\"].value_counts().sort_values().plot(kind = 'bar')\n",
    "plt.title(\"TIME_PERIOD: Time\", fontsize=16, pad=20)\n",
    "plt.show()"
   ]
  },
  {
   "cell_type": "code",
   "execution_count": 15,
   "id": "f6686ae1",
   "metadata": {},
   "outputs": [],
   "source": [
    "# List of column names to be splitted\n",
    "columns_list = ['GEO_PICT: Pacific Island Countries and territories','TOPIC: Topic','CONDITION: Women’s condition','VIOLENCE_TYPE: Type of violence','PERPETRATOR: Perpetrator','ACTUALITY: Actuality','LIFEPER: Period of life','OUTCOME: Outcome','RESPONSE: Response','HELP_REASON: Reason for searching help','HELP_PROVIDER: Help provider']\n",
    "\n",
    "# Split the values of each column on \":\" and keep the first part from the split result\n",
    "for column in columns_list:\n",
    "    df[column] = df[column].apply(lambda row: row.split(\":\")[0])"
   ]
  },
  {
   "cell_type": "code",
   "execution_count": 16,
   "id": "e1ff3816",
   "metadata": {},
   "outputs": [],
   "source": [
    "# Replace _T of any value in dataframe to NaN\n",
    "df.replace(to_replace=\"_T\", value=np.nan, inplace=True)"
   ]
  },
  {
   "cell_type": "code",
   "execution_count": 17,
   "id": "3e7b362a",
   "metadata": {},
   "outputs": [
    {
     "data": {
      "image/png": "[encoded data removed]",
      "text/plain": [
       "<Figure size 432x288 with 1 Axes>"
      ]
     },
     "metadata": {
      "needs_background": "light"
     },
     "output_type": "display_data"
    }
   ],
   "source": [
    "df[\"GEO_PICT: Pacific Island Countries and territories\"].value_counts().sort_values().plot(kind = 'bar')\n",
    "plt.title(\"GEO_PICT: Pacific Island Countries and territories\", fontsize=16, pad=20)\n",
    "plt.show()"
   ]
  },
  {
   "cell_type": "code",
   "execution_count": 18,
   "id": "4adbccac",
   "metadata": {},
   "outputs": [
    {
     "data": {
      "image/png": "[encoded data removed]",
      "text/plain": [
       "<Figure size 432x288 with 1 Axes>"
      ]
     },
     "metadata": {
      "needs_background": "light"
     },
     "output_type": "display_data"
    }
   ],
   "source": [
    "df[\"TOPIC: Topic\"].value_counts().sort_values().plot(kind = 'bar')\n",
    "plt.title(\"TOPIC: Topic\", fontsize=16, pad=20)\n",
    "plt.show()"
   ]
  },
  {
   "cell_type": "code",
   "execution_count": 19,
   "id": "0413c711",
   "metadata": {},
   "outputs": [
    {
     "data": {
      "image/png": "[encoded data removed]",
      "text/plain": [
       "<Figure size 432x288 with 1 Axes>"
      ]
     },
     "metadata": {
      "needs_background": "light"
     },
     "output_type": "display_data"
    }
   ],
   "source": [
    "df[\"CONDITION: Women’s condition\"].value_counts().sort_values().plot(kind = 'bar')\n",
    "plt.title(\"CONDITION: Women’s condition\", fontsize=16, pad=20)\n",
    "plt.show()"
   ]
  },
  {
   "cell_type": "code",
   "execution_count": 20,
   "id": "6e6d016a",
   "metadata": {},
   "outputs": [
    {
     "data": {
      "image/png": "[encoded data removed]",
      "text/plain": [
       "<Figure size 432x288 with 1 Axes>"
      ]
     },
     "metadata": {
      "needs_background": "light"
     },
     "output_type": "display_data"
    }
   ],
   "source": [
    "df[\"VIOLENCE_TYPE: Type of violence\"].value_counts().sort_values().plot(kind = 'bar')\n",
    "plt.title(\"VIOLENCE_TYPE: Type of violence\", fontsize=16, pad=20)\n",
    "plt.show()"
   ]
  },
  {
   "cell_type": "code",
   "execution_count": 21,
   "id": "1229ce15",
   "metadata": {},
   "outputs": [
    {
     "data": {
      "image/png": "[encoded data removed]",
      "text/plain": [
       "<Figure size 432x288 with 1 Axes>"
      ]
     },
     "metadata": {
      "needs_background": "light"
     },
     "output_type": "display_data"
    }
   ],
   "source": [
    "df[\"PERPETRATOR: Perpetrator\"].value_counts().sort_values().plot(kind = 'bar')\n",
    "plt.title(\"PERPETRATOR: Perpetrator\", fontsize=16, pad=20)\n",
    "plt.show()"
   ]
  },
  {
   "cell_type": "code",
   "execution_count": 22,
   "id": "dd97db86",
   "metadata": {},
   "outputs": [
    {
     "data": {
      "image/png": "[encoded data removed]",
      "text/plain": [
       "<Figure size 432x288 with 1 Axes>"
      ]
     },
     "metadata": {
      "needs_background": "light"
     },
     "output_type": "display_data"
    }
   ],
   "source": [
    "df[\"ACTUALITY: Actuality\"].value_counts().sort_values().plot(kind = 'bar')\n",
    "plt.title(\"ACTUALITY: Actuality\", fontsize=16, pad=20)\n",
    "plt.show()"
   ]
  },
  {
   "cell_type": "code",
   "execution_count": 23,
   "id": "ccd5a2bb",
   "metadata": {},
   "outputs": [
    {
     "data": {
      "image/png": "[encoded data removed]",
      "text/plain": [
       "<Figure size 432x288 with 1 Axes>"
      ]
     },
     "metadata": {
      "needs_background": "light"
     },
     "output_type": "display_data"
    }
   ],
   "source": [
    "df[\"LIFEPER: Period of life\"].value_counts().sort_values().plot(kind = 'bar')\n",
    "plt.title(\"LIFEPER: Period of life\", fontsize=16, pad=20)\n",
    "plt.show()"
   ]
  },
  {
   "cell_type": "code",
   "execution_count": 24,
   "id": "9a04d35e",
   "metadata": {},
   "outputs": [
    {
     "data": {
      "image/png": "[encoded data removed]",
      "text/plain": [
       "<Figure size 432x288 with 1 Axes>"
      ]
     },
     "metadata": {
      "needs_background": "light"
     },
     "output_type": "display_data"
    }
   ],
   "source": [
    "df[\"OUTCOME: Outcome\"].value_counts().sort_values().plot(kind = 'bar')\n",
    "plt.title(\"OUTCOME: Outcome\", fontsize=16, pad=20)\n",
    "plt.show()"
   ]
  },
  {
   "cell_type": "code",
   "execution_count": 25,
   "id": "8a473ebc",
   "metadata": {},
   "outputs": [
    {
     "data": {
      "image/png": "[encoded data removed]",
      "text/plain": [
       "<Figure size 432x288 with 1 Axes>"
      ]
     },
     "metadata": {
      "needs_background": "light"
     },
     "output_type": "display_data"
    }
   ],
   "source": [
    "df[\"RESPONSE: Response\"].value_counts().sort_values().plot(kind = 'bar')\n",
    "plt.title(\"RESPONSE: Response\", fontsize=16, pad=20)\n",
    "plt.show()"
   ]
  },
  {
   "cell_type": "code",
   "execution_count": 26,
   "id": "3a5beae2",
   "metadata": {},
   "outputs": [
    {
     "data": {
      "image/png": "[encoded data removed]",
      "text/plain": [
       "<Figure size 432x288 with 1 Axes>"
      ]
     },
     "metadata": {
      "needs_background": "light"
     },
     "output_type": "display_data"
    }
   ],
   "source": [
    "df[\"HELP_REASON: Reason for searching help\"].value_counts().sort_values().plot(kind = 'bar')\n",
    "plt.title(\"HELP_REASON: Reason for searching help\", fontsize=16, pad=20)\n",
    "plt.show()"
   ]
  },
  {
   "cell_type": "code",
   "execution_count": 27,
   "id": "e5fe6c9f",
   "metadata": {},
   "outputs": [
    {
     "data": {
      "image/png": "[encoded data removed]",
      "text/plain": [
       "<Figure size 432x288 with 1 Axes>"
      ]
     },
     "metadata": {
      "needs_background": "light"
     },
     "output_type": "display_data"
    }
   ],
   "source": [
    "df[\"HELP_PROVIDER: Help provider\"].value_counts().sort_values().plot(kind = 'bar')\n",
    "plt.title(\"HELP_PROVIDER: Help provider\", fontsize=16, pad=20)\n",
    "plt.show()"
   ]
  },
  {
   "cell_type": "code",
   "execution_count": 28,
   "id": "1b64caf0",
   "metadata": {},
   "outputs": [
    {
     "data": {
      "text/plain": [
       "NaN     782\n",
       "0.0      21\n",
       "0.1      11\n",
       "6.7       9\n",
       "10.3      9\n",
       "       ... \n",
       "32.5      1\n",
       "20.4      1\n",
       "42.4      1\n",
       "70.9      1\n",
       "53.7      1\n",
       "Name: OBS_VALUE, Length: 485, dtype: int64"
      ]
     },
     "execution_count": 28,
     "metadata": {},
     "output_type": "execute_result"
    }
   ],
   "source": [
    "df[\"OBS_VALUE\"].value_counts(dropna=False)"
   ]
  },
  {
   "cell_type": "code",
   "execution_count": 29,
   "id": "e29a7cc0",
   "metadata": {},
   "outputs": [],
   "source": [
    "# Drop columns DATAFLOW, FREQ: Frequency, INDICATOR: Indicator, SEX: Sex, AGE: Age,\n",
    "# UNIT_MEASURE: Unit of measure, UNIT_MULT: Unit multiplier, OBS_STATUS: Observation Status\n",
    "# OBS_COMMENT: Comment and \"TIME_PERIOD: Time\"\n",
    "df.drop([\"DATAFLOW\", \"FREQ: Frequency\", \"INDICATOR: Indicator\", \"SEX: Sex\", \"AGE: Age\", \"UNIT_MEASURE: Unit of measure\", \"UNIT_MULT: Unit multiplier\", \"OBS_STATUS: Observation Status\", \"OBS_COMMENT: Comment\", \"TIME_PERIOD: Time\"], axis = 1, inplace=True)"
   ]
  },
  {
   "cell_type": "code",
   "execution_count": 30,
   "id": "12cffe74",
   "metadata": {},
   "outputs": [],
   "source": [
    "# Make a copy of df to variable df_full\n",
    "df_full = df.copy()"
   ]
  },
  {
   "cell_type": "markdown",
   "id": "045bcff3",
   "metadata": {},
   "source": [
    "## Training when missing values OUTCOME are removed"
   ]
  },
  {
   "cell_type": "code",
   "execution_count": 31,
   "id": "c0e6a0f8",
   "metadata": {},
   "outputs": [],
   "source": [
    "# Drop rows which have a NaN (missing value) on column OUTCOME: Outcome\n",
    "df.dropna(subset=[\"OUTCOME: Outcome\"], axis=0, inplace=True)"
   ]
  },
  {
   "cell_type": "code",
   "execution_count": 32,
   "id": "40b73adb",
   "metadata": {},
   "outputs": [
    {
     "data": {
      "text/plain": [
       "(544, 13)"
      ]
     },
     "execution_count": 32,
     "metadata": {},
     "output_type": "execute_result"
    }
   ],
   "source": [
    "df.shape"
   ]
  },
  {
   "cell_type": "code",
   "execution_count": 33,
   "id": "3f5648d0",
   "metadata": {},
   "outputs": [
    {
     "data": {
      "text/plain": [
       "GEO_PICT: Pacific Island Countries and territories      0\n",
       "TOPIC: Topic                                            0\n",
       "CONDITION: Women’s condition                          288\n",
       "VIOLENCE_TYPE: Type of violence                       400\n",
       "PERPETRATOR: Perpetrator                              144\n",
       "ACTUALITY: Actuality                                  400\n",
       "LIFEPER: Period of life                               496\n",
       "OUTCOME: Outcome                                        0\n",
       "RESPONSE: Response                                    544\n",
       "HELP_REASON: Reason for searching help                544\n",
       "HELP_PROVIDER: Help provider                          544\n",
       "OBS_VALUE                                             246\n",
       "DATA_SOURCE: Data source                                0\n",
       "dtype: int64"
      ]
     },
     "execution_count": 33,
     "metadata": {},
     "output_type": "execute_result"
    }
   ],
   "source": [
    "# Check for the total amount of NaN values on each column\n",
    "df.isnull().sum()"
   ]
  },
  {
   "cell_type": "markdown",
   "id": "1ad653a3",
   "metadata": {},
   "source": [
    "## Definition of the function for preparing the data for model"
   ]
  },
  {
   "cell_type": "code",
   "execution_count": 34,
   "id": "e4a4c0a1",
   "metadata": {},
   "outputs": [],
   "source": [
    "models = [\n",
    "    LogisticRegression(),\n",
    "    DecisionTreeClassifier(),\n",
    "    RandomForestClassifier(),\n",
    "    KNeighborsClassifier(),\n",
    "    GaussianNB(),\n",
    "    MLPClassifier(),\n",
    "    SVC(),\n",
    "    XGBClassifier(eval_metric=\"mlogloss\")\n",
    "]\n",
    "\n",
    "scores_accuracy = []\n",
    "scores_precision = []\n",
    "scores_recall = []\n",
    "scores_f1 = []\n",
    "\n",
    "def prepare_data_for_model(df, impute):\n",
    "    # Store features and target variable into 'X' and 'y'\n",
    "    # Also we drop RESPONSE: Response, HELP_REASON: Reason for searching help and\n",
    "    # HELP_PROVIDER: Help provider columns because all of their rows (544) have\n",
    "    # missing values if impute variable is False\n",
    "    if impute == False:\n",
    "        X = df.drop([\"OUTCOME: Outcome\", \"RESPONSE: Response\", \"HELP_REASON: Reason for searching help\", \"HELP_PROVIDER: Help provider\"], axis=1)\n",
    "    else:\n",
    "        X = df.drop([\"OUTCOME: Outcome\"], axis=1)\n",
    "    y = df[\"OUTCOME: Outcome\"]\n",
    "    \n",
    "    # K-Fold Cross Validation to split all the samples in 10 groups of samples\n",
    "    folds = KFold(n_splits=10, random_state=21, shuffle=True)\n",
    "    \n",
    "    for model in models:\n",
    "        print(f\"Model: {model.__class__.__name__}\")\n",
    "        start = timeit.default_timer()\n",
    "        for train_index, test_index in folds.split(X, y):\n",
    "            x_train, x_test, y_train, y_test = X.iloc[train_index], X.iloc[test_index], y.iloc[train_index], y.iloc[test_index]\n",
    "\n",
    "            # Get all numerical and categorical column names\n",
    "            numerical_columns = [col for col in x_train.columns if x_train[col].dtype != \"O\"]\n",
    "            categorical_columns = [col for col in x_train.columns if x_train[col].dtype == \"O\"]\n",
    "\n",
    "            # Seperate x_train and x_test into numerical features and categorical\n",
    "            x_train_numerical = x_train[numerical_columns]\n",
    "            x_test_numerical = x_test[numerical_columns]\n",
    "\n",
    "            x_train_categorical = x_train[categorical_columns]\n",
    "            x_test_categorical = x_test[categorical_columns]\n",
    "\n",
    "            # Impute missing values of numerical features\n",
    "            imp_numerical = KNNImputer()\n",
    "            x_train_numerical = imp_numerical.fit_transform(x_train_numerical)\n",
    "            x_test_numerical = imp_numerical.transform(x_test_numerical)\n",
    "\n",
    "            # Impute missing values of categorical features\n",
    "            imp_categorical = SimpleImputer(missing_values=np.nan, strategy=\"most_frequent\")\n",
    "            x_train_categorical = imp_categorical.fit_transform(x_train_categorical)\n",
    "            x_test_categorical = imp_categorical.transform(x_test_categorical)\n",
    "\n",
    "            # Merge categorical and numerical features into x_train and x_test respectively\n",
    "            x_train = pd.concat([\n",
    "                pd.DataFrame(x_train_categorical, columns=categorical_columns),\n",
    "                pd.DataFrame(x_train_numerical, columns=numerical_columns),\n",
    "            ], axis=1)\n",
    "\n",
    "            x_test = pd.concat([\n",
    "                pd.DataFrame(x_test_categorical, columns=categorical_columns),\n",
    "                pd.DataFrame(x_test_numerical, columns=numerical_columns)\n",
    "            ], axis=1)\n",
    "\n",
    "            # Encode categorical features using OneHotEncoder\n",
    "            encoder = OneHotEncoder(handle_unknown=\"ignore\", sparse=False)\n",
    "            x_train = encoder.fit_transform(x_train)\n",
    "            x_test = encoder.transform(x_test)\n",
    "\n",
    "            # Scaling features using MinMaxScaler\n",
    "            scaler = MinMaxScaler()\n",
    "            x_train = scaler.fit_transform(x_train)\n",
    "            x_test = scaler.transform(x_test)\n",
    "            \n",
    "            # PCA is used to reduce dimensionality by adjusting the variance of the input that \n",
    "            # is expected to be explained by the produced components\n",
    "            pca = PCA(n_components=0.95, random_state=0)\n",
    "            x_train = pca.fit_transform(x_train)\n",
    "            x_test = pca.transform(x_test)\n",
    "            \n",
    "            # Over Sampling (RandomOverSampler) is used to deal with the \n",
    "            # imbalance of classes in the dataset.\n",
    "            over_sampling = RandomOverSampler()\n",
    "            x_train, y_train = over_sampling.fit_resample(x_train, y_train)\n",
    "\n",
    "            accuracy, precision, recall, f1 = train_evaluate_model(model, x_train, x_test, y_train, y_test)\n",
    "            \n",
    "            scores_accuracy.append(accuracy)\n",
    "            scores_precision.append(precision)\n",
    "            scores_recall.append(recall)\n",
    "            scores_f1.append(f1)\n",
    "        \n",
    "        stop = timeit.default_timer()\n",
    "        print(f\"Total Training Time: {round(stop - start, 3)}\\n\")\n",
    "        print(f\"Average Accuracy Score: {round(np.average(scores_accuracy) * 100, 2)}%\")\n",
    "        print(f\"Average Precision Score: {round(np.average(scores_precision) * 100, 2)}%\")\n",
    "        print(f\"Average Recall Score: {round(np.average(scores_recall) * 100, 2)}%\")\n",
    "        print(f\"Average F1 Score: {round(np.average(scores_f1) * 100, 2)}%\")\n",
    "        scores_accuracy.clear()\n",
    "        scores_precision.clear()\n",
    "        scores_recall.clear()\n",
    "        scores_f1.clear()\n",
    "        print(60*\"=\")"
   ]
  },
  {
   "cell_type": "markdown",
   "id": "5b9eaf0c",
   "metadata": {},
   "source": [
    "## Definition of the function for training and evaluating models"
   ]
  },
  {
   "cell_type": "code",
   "execution_count": 35,
   "id": "d1f1d59e",
   "metadata": {},
   "outputs": [],
   "source": [
    "def train_evaluate_model(model, x_train, x_test, y_train, y_test):\n",
    "    # Train the model\n",
    "    model.fit(x_train, y_train)\n",
    "    \n",
    "    # Evaluate the model\n",
    "    y_pred = model.predict(x_test)\n",
    "    \n",
    "    accuracy = metrics.accuracy_score(y_test, y_pred)\n",
    "    precision = metrics.precision_score(y_test, y_pred, average=\"macro\")\n",
    "    recall = metrics.recall_score(y_test, y_pred, average=\"macro\")\n",
    "    f1 = metrics.f1_score(y_test, y_pred, average=\"macro\")\n",
    "    \n",
    "    return accuracy, precision, recall, f1"
   ]
  },
  {
   "cell_type": "code",
   "execution_count": 36,
   "id": "af991698",
   "metadata": {},
   "outputs": [
    {
     "name": "stdout",
     "output_type": "stream",
     "text": [
      "Model: LogisticRegression\n",
      "Total Training Time: 3.418\n",
      "\n",
      "Average Accuracy Score: 16.16%\n",
      "Average Precision Score: 6.99%\n",
      "Average Recall Score: 5.77%\n",
      "Average F1 Score: 5.97%\n",
      "============================================================\n",
      "Model: DecisionTreeClassifier\n",
      "Total Training Time: 1.406\n",
      "\n",
      "Average Accuracy Score: 25.54%\n",
      "Average Precision Score: 14.15%\n",
      "Average Recall Score: 14.38%\n",
      "Average F1 Score: 13.01%\n",
      "============================================================\n",
      "Model: RandomForestClassifier\n",
      "Total Training Time: 7.635\n",
      "\n",
      "Average Accuracy Score: 19.28%\n",
      "Average Precision Score: 8.93%\n",
      "Average Recall Score: 7.86%\n",
      "Average F1 Score: 7.89%\n",
      "============================================================\n",
      "Model: KNeighborsClassifier\n",
      "Total Training Time: 0.559\n",
      "\n",
      "Average Accuracy Score: 16.0%\n",
      "Average Precision Score: 6.99%\n",
      "Average Recall Score: 5.8%\n",
      "Average F1 Score: 6.01%\n",
      "============================================================\n",
      "Model: GaussianNB\n",
      "Total Training Time: 0.565\n",
      "\n",
      "Average Accuracy Score: 23.9%\n",
      "Average Precision Score: 12.57%\n",
      "Average Recall Score: 14.78%\n",
      "Average F1 Score: 11.49%\n",
      "============================================================\n",
      "Model: MLPClassifier\n",
      "Total Training Time: 39.825\n",
      "\n",
      "Average Accuracy Score: 19.09%\n",
      "Average Precision Score: 7.39%\n",
      "Average Recall Score: 7.05%\n",
      "Average F1 Score: 6.83%\n",
      "============================================================\n",
      "Model: SVC\n",
      "Total Training Time: 4.838\n",
      "\n",
      "Average Accuracy Score: 16.36%\n",
      "Average Precision Score: 7.12%\n",
      "Average Recall Score: 6.07%\n",
      "Average F1 Score: 6.1%\n",
      "============================================================\n",
      "Model: XGBClassifier\n",
      "Total Training Time: 55.39\n",
      "\n",
      "Average Accuracy Score: 22.6%\n",
      "Average Precision Score: 8.83%\n",
      "Average Recall Score: 10.35%\n",
      "Average F1 Score: 8.85%\n",
      "============================================================\n"
     ]
    }
   ],
   "source": [
    "prepare_data_for_model(df, False)"
   ]
  },
  {
   "cell_type": "markdown",
   "id": "87198d95",
   "metadata": {},
   "source": [
    "## Impute missing values of OUTCOME: Outcome (unlabeled data) using Clustering"
   ]
  },
  {
   "cell_type": "code",
   "execution_count": 36,
   "id": "af12686b",
   "metadata": {},
   "outputs": [
    {
     "data": {
      "text/plain": [
       "INJ              96\n",
       "LOSCONS          32\n",
       "STILB            32\n",
       "MISC             32\n",
       "ABOR             32\n",
       "HEALTHSTA        16\n",
       "PAIN             16\n",
       "AL1CHILDQUIET    16\n",
       "AL1CHILDNIGHT    16\n",
       "AL1CHILDDSCH     16\n",
       "AL1CHILDBEDW     16\n",
       "AL1CHILDAGGR     16\n",
       "DISWORK          16\n",
       "WORK             16\n",
       "LOSCONF          16\n",
       "CONCENTRATE      16\n",
       "HURT             16\n",
       "EMODIST          16\n",
       "HEALTHAFF        16\n",
       "SUICIDETHI       16\n",
       "SUICIDEATT       16\n",
       "PROBWALK         16\n",
       "PROBUSUAL        16\n",
       "PROBMEM          16\n",
       "AL1CHILDRSCH     16\n",
       "Name: OUTCOME: Outcome, dtype: int64"
      ]
     },
     "execution_count": 36,
     "metadata": {},
     "output_type": "execute_result"
    }
   ],
   "source": [
    "df_full[\"OUTCOME: Outcome\"].value_counts()"
   ]
  },
  {
   "cell_type": "code",
   "execution_count": 37,
   "id": "c7df731a",
   "metadata": {},
   "outputs": [],
   "source": [
    "unlabeled_df = df_full[df_full[\"OUTCOME: Outcome\"].isna()]\n",
    "\n",
    "X = unlabeled_df.drop([\"OUTCOME: Outcome\", \"RESPONSE: Response\", \"HELP_REASON: Reason for searching help\", \"HELP_PROVIDER: Help provider\"], axis=1)\n",
    "y = unlabeled_df[\"OUTCOME: Outcome\"]"
   ]
  },
  {
   "cell_type": "code",
   "execution_count": 38,
   "id": "f938aa02",
   "metadata": {},
   "outputs": [],
   "source": [
    "# Get all numerical and categorical column names\n",
    "numerical_columns = [col for col in X.columns if X[col].dtype != \"O\"]\n",
    "categorical_columns = [col for col in X.columns if X[col].dtype == \"O\"]"
   ]
  },
  {
   "cell_type": "code",
   "execution_count": 39,
   "id": "dc1930b9",
   "metadata": {},
   "outputs": [],
   "source": [
    "# Seperate X into numerical features and categorical\n",
    "X_numerical = X[numerical_columns]\n",
    "X_categorical = X[categorical_columns]"
   ]
  },
  {
   "cell_type": "code",
   "execution_count": 40,
   "id": "2e27e7fe",
   "metadata": {},
   "outputs": [],
   "source": [
    "# Impute missing values of numerical features\n",
    "imp_numerical = KNNImputer()\n",
    "X_numerical = imp_numerical.fit_transform(X_numerical)"
   ]
  },
  {
   "cell_type": "code",
   "execution_count": 41,
   "id": "a768f522",
   "metadata": {},
   "outputs": [],
   "source": [
    "# Impute missing values of categorical features\n",
    "categorical_imp = SimpleImputer(missing_values=np.nan, strategy=\"most_frequent\")\n",
    "X_categorical = categorical_imp.fit_transform(X_categorical)"
   ]
  },
  {
   "cell_type": "code",
   "execution_count": 42,
   "id": "6e33553a",
   "metadata": {},
   "outputs": [],
   "source": [
    "# Merge categorical and numerical features into X variable\n",
    "X = pd.concat([\n",
    "    pd.DataFrame(X_categorical, columns=categorical_columns),\n",
    "    pd.DataFrame(X_numerical, columns=numerical_columns),\n",
    "], axis=1)"
   ]
  },
  {
   "cell_type": "code",
   "execution_count": 43,
   "id": "362a7894",
   "metadata": {},
   "outputs": [],
   "source": [
    "# Encode categorical features using OneHotEncoder\n",
    "encoder = OneHotEncoder(handle_unknown=\"ignore\", sparse=False)\n",
    "X = encoder.fit_transform(X)"
   ]
  },
  {
   "cell_type": "code",
   "execution_count": 44,
   "id": "300672ff",
   "metadata": {},
   "outputs": [],
   "source": [
    "# Scaling features using MinMaxScaler\n",
    "scaler = MinMaxScaler()\n",
    "X = scaler.fit_transform(X)"
   ]
  },
  {
   "cell_type": "code",
   "execution_count": 45,
   "id": "9f1835c3",
   "metadata": {},
   "outputs": [],
   "source": [
    "# PCA is used to reduce dimensionality by adjusting the variance of the input that \n",
    "# is expected to be explained by the produced components\n",
    "pca = PCA(n_components=0.95, random_state=0)\n",
    "X = pca.fit_transform(X)"
   ]
  },
  {
   "cell_type": "code",
   "execution_count": 46,
   "id": "4fbb99e2",
   "metadata": {},
   "outputs": [
    {
     "name": "stdout",
     "output_type": "stream",
     "text": [
      "Total Classes: 25\n"
     ]
    }
   ],
   "source": [
    "total_classes = len(df_full['OUTCOME: Outcome'].value_counts())\n",
    "print(f\"Total Classes: {total_classes}\")"
   ]
  },
  {
   "cell_type": "code",
   "execution_count": 47,
   "id": "df2f89f8",
   "metadata": {},
   "outputs": [
    {
     "data": {
      "text/plain": [
       "KMeans(n_clusters=25, random_state=0)"
      ]
     },
     "execution_count": 47,
     "metadata": {},
     "output_type": "execute_result"
    }
   ],
   "source": [
    "from sklearn.cluster import KMeans\n",
    "\n",
    "kmeans_model = KMeans(n_clusters=25, random_state=0)\n",
    "kmeans_model.fit(X)"
   ]
  },
  {
   "cell_type": "code",
   "execution_count": 48,
   "id": "aab36be1",
   "metadata": {},
   "outputs": [
    {
     "data": {
      "text/plain": [
       "array([ 2,  2,  2,  2,  2,  2,  2,  2,  2,  8,  2,  2,  1, 24,  1, 24,  1,\n",
       "       24,  1, 24,  1, 24,  1, 24, 12, 12, 12, 12, 12, 12, 23, 23, 23, 23,\n",
       "       23, 23, 18,  2, 18,  2, 18,  2, 18,  2, 22, 22, 15, 15, 15, 15, 22,\n",
       "       15, 15,  5, 14,  5, 14,  5, 14,  5, 14, 13,  9, 13,  9, 13,  9, 13,\n",
       "        9,  4,  4,  4,  4,  4,  8,  8,  8,  8,  8,  8,  8, 10, 10, 10, 10,\n",
       "       10,  3,  3,  3,  3,  3,  3, 20, 20, 20, 20, 20, 20, 20, 20, 20, 20,\n",
       "       20, 20,  1, 20,  1, 20,  1, 20,  1, 20,  1, 20,  1, 20, 20, 20, 20,\n",
       "       20, 20, 20, 20, 20, 20, 20, 20, 20, 18, 20, 18, 20, 18, 20, 18, 20,\n",
       "       22, 22,  6,  6,  6,  6, 22,  6,  6,  5, 20,  5, 20,  5, 14,  5, 14,\n",
       "       13,  9, 13,  9, 13,  9, 13,  9,  4,  4,  4,  4,  4, 20, 20, 20, 20,\n",
       "       20, 20, 20, 20, 20, 20, 20, 20, 20, 20, 20, 20, 20, 20,  2,  2,  2,\n",
       "        2,  2,  2,  2,  2,  2,  8,  2,  2,  1, 24,  1, 24,  1, 24,  1, 24,\n",
       "        1, 24,  1, 24, 12, 12, 12, 12, 12, 12, 23, 23, 23, 23, 23, 23, 18,\n",
       "        2, 18,  2, 18,  2, 18,  2, 22, 22, 15, 15, 15, 15, 22, 15, 15,  5,\n",
       "       14,  5, 14,  5, 14,  5, 14, 13,  9, 13,  9, 13,  9, 13,  9,  4,  4,\n",
       "        4,  4,  4,  8,  8,  8,  8,  8,  8,  8, 10, 10, 10, 10, 10,  3,  3,\n",
       "        3,  3,  3,  3,  2, 19,  2, 19,  2, 19,  2, 19,  2, 19,  2, 19,  2,\n",
       "       19,  2, 19,  2, 19,  8, 19,  2, 19,  2, 19, 11,  1, 24, 19, 11,  1,\n",
       "       24, 19, 11,  1, 24, 19, 11,  1, 24, 19, 11,  1, 24, 19, 11,  1, 24,\n",
       "       19, 12, 12, 12, 19, 12, 12, 12, 19, 12, 12, 12, 19, 23, 23, 23, 19,\n",
       "       23, 23, 23, 19, 23, 23, 23, 19, 18, 18,  2, 19, 18, 18,  2, 19, 18,\n",
       "       18,  2, 19, 18, 18,  2, 19, 22, 22, 22, 22, 15,  6, 15,  6, 15,  6,\n",
       "       15,  6, 22, 22, 15,  6, 15,  6,  5,  5, 14, 14,  5,  5, 14, 14,  5,\n",
       "        5, 14, 14,  5,  5, 14, 14, 13, 13,  9,  9, 13, 13,  9,  9, 13, 13,\n",
       "        9,  9, 13, 13,  9,  9,  4,  4,  4,  4,  4,  4,  4,  4,  4,  4,  8,\n",
       "       19,  8, 19,  8, 19,  8, 19,  8, 19,  8, 19,  8, 19, 10, 19, 10, 19,\n",
       "       10, 19, 10, 19, 10, 19,  3, 19,  3, 19,  3, 19,  3, 19,  3, 19,  3,\n",
       "       19,  7,  2, 17,  2,  7,  2,  7,  2,  7,  2,  7,  2,  7,  2, 17,  2,\n",
       "        7,  2,  7,  8,  7,  2,  7,  2,  1,  1,  7, 24,  1,  1,  7, 24,  1,\n",
       "        1,  7, 24,  1,  1,  7, 24,  1,  1,  7, 24,  1,  1,  7, 24, 12, 12,\n",
       "        7, 12, 12, 12,  7, 12, 12, 12,  7, 12, 23, 23,  7, 23, 23, 23,  7,\n",
       "       23, 23, 23,  7, 23, 18, 18,  7,  2, 18, 18,  7,  2, 18, 18,  7,  2,\n",
       "       18, 18,  7,  2, 22, 22, 22, 22,  6, 15,  6, 15,  6, 15,  6, 15, 22,\n",
       "       22,  6, 15,  6, 15,  5,  5, 14, 14,  5,  5, 14, 14,  5,  5, 14, 14,\n",
       "        5,  5, 14, 14, 13, 13,  9,  9, 13, 13,  9,  9, 13, 13,  9,  9, 13,\n",
       "       13,  9,  9,  4,  4,  4,  4,  4,  4,  4,  4,  4,  4,  7,  8,  7,  8,\n",
       "        7,  8,  7,  8,  7,  8,  7,  8,  7,  8,  7, 10,  7, 10,  7, 10,  7,\n",
       "       10,  7, 10,  7,  3,  7,  3,  7,  3,  7,  3,  7,  3,  7,  3,  2, 11,\n",
       "        2,  2,  2,  2,  2,  2,  2,  8,  2,  2, 11, 24, 11, 24, 11, 24, 11,\n",
       "       24, 11, 24, 11, 24, 12, 12, 12, 12, 12, 12, 23, 23, 23, 23, 23, 23,\n",
       "       18,  2, 18,  2, 18,  2, 18,  2, 22, 22, 15, 15, 15, 15, 22, 15, 15,\n",
       "        5, 14,  5, 14,  5, 14,  5, 14, 13,  9, 13,  9, 13,  9, 13,  9,  4,\n",
       "        4,  4,  4,  4,  8,  8,  8,  8,  8,  8,  8, 10, 10, 10, 10, 10,  3,\n",
       "        3,  3,  3,  3,  3, 16, 16, 16, 16, 16, 16, 16, 16, 16, 16, 16, 16,\n",
       "       16, 16, 16, 16, 16, 16, 16, 16, 16, 16, 16, 16, 16, 16, 16, 16, 16,\n",
       "       16, 16, 16, 16, 16, 16, 16, 18, 16, 18, 16, 18, 16, 18, 16, 22, 22,\n",
       "        6,  6,  6,  6, 22,  6,  6,  5, 14,  5, 14,  5, 14,  5, 14, 13,  9,\n",
       "       13,  9, 13,  9, 13,  9,  4,  4,  4,  4,  4, 16, 16, 16, 16, 16, 16,\n",
       "       16, 16, 16, 16, 16, 16, 16, 16, 16, 16, 16, 16,  2,  2,  2,  2,  2,\n",
       "        2,  2,  2,  2,  8,  2,  2,  1, 24,  1, 24,  1, 24,  1, 24,  1, 24,\n",
       "        1, 24, 12, 12, 12, 12, 12, 12, 23, 23, 23, 23, 23, 23, 18,  2, 18,\n",
       "        2, 18,  2, 18,  2, 22, 22, 15, 15, 15, 15, 22, 15, 15,  5, 14,  5,\n",
       "       14,  5, 14,  5, 14, 13,  9, 13,  9, 13,  9, 13,  9,  4,  4,  4,  4,\n",
       "        4,  8,  8,  8,  8,  8,  8,  8, 10, 10, 10, 10, 10,  3,  3,  3,  3,\n",
       "        3,  3,  2,  2,  2, 11,  2,  2,  2, 11,  2,  8,  2,  2, 11, 24, 11,\n",
       "       24, 11, 24, 11, 24, 11, 24, 11, 24, 12, 12, 12, 12, 12, 12, 23, 23,\n",
       "       23, 23, 23, 23, 18,  2, 18,  2, 18,  2, 18,  2, 22, 22, 15, 15, 15,\n",
       "       15, 22, 15, 15,  5, 14,  5, 14,  5, 14,  5, 14, 13,  9, 13,  9, 13,\n",
       "        9, 13,  9,  4,  4,  4,  4,  4,  8,  8,  8,  8,  8,  8,  8, 10, 10,\n",
       "       10, 10, 10,  3,  3,  3,  3,  3,  3,  2, 21,  2, 21,  2, 21,  2, 21,\n",
       "        2, 21,  2, 21,  2, 21,  2, 21,  2, 21,  8, 21,  2, 21,  2, 21,  1,\n",
       "        1, 24, 21,  1,  1, 24, 21,  1,  1, 24, 21,  1,  1, 24, 21,  1,  1,\n",
       "       24, 21,  1,  1, 24, 21, 12, 21, 12, 21, 12, 21, 12, 21, 12, 21, 12,\n",
       "       21, 23, 21, 23, 21, 23, 21, 23, 21, 23, 21, 23, 21, 18, 18,  2, 21,\n",
       "       18, 18,  2, 21, 18, 18,  2, 21, 18, 18,  2, 21, 22, 22, 22, 22, 15,\n",
       "        6, 15,  6, 15,  6, 15,  6, 22, 22, 15,  6, 15,  6,  5,  5, 14, 14,\n",
       "        5,  5, 14, 14,  5,  5, 14, 14,  5,  5, 14, 14, 13, 13,  9,  9, 13,\n",
       "       13,  9,  9, 13, 13,  9,  9, 13, 13,  9,  9,  4,  4,  4,  4,  4,  4,\n",
       "        4,  4,  4,  4,  8, 21,  8, 21,  8, 21,  8, 21,  8, 21,  8, 21,  8,\n",
       "       21, 10, 21, 10, 21, 10, 21, 10, 21, 10, 21,  3, 21,  3, 21,  3, 21,\n",
       "        3, 21,  3, 21,  3, 21, 17, 17, 17, 17, 17, 17, 17, 17, 17, 17, 17,\n",
       "       17, 17, 17, 17, 17, 17, 17, 17, 17, 17, 17, 17, 17, 17, 17, 17, 17,\n",
       "       17, 17, 17, 17, 17, 17, 17, 17, 18, 17, 18, 17, 18, 17, 18, 17, 22,\n",
       "       22,  6,  6,  6,  6, 22,  6,  6,  5, 14,  5, 14,  5, 14,  5, 14, 13,\n",
       "        9, 13,  9, 13,  9, 13,  9,  4,  4,  4,  4,  4,  7, 17, 17,  7, 17,\n",
       "       17, 17,  7,  7,  7,  7,  7,  7,  7,  7,  7,  7,  7,  0,  0,  0,  0,\n",
       "        0,  0,  0,  0,  0,  0,  0,  0, 11,  0, 11,  0, 11,  0, 11,  0, 11,\n",
       "        0, 11,  0,  0,  0,  0,  0,  0,  0,  0,  0,  0,  0,  0,  0, 18,  0,\n",
       "       18,  0, 18,  0, 18,  0, 22, 22,  6,  6,  6,  6, 22,  6,  6,  5,  0,\n",
       "        5, 14,  5, 14,  5, 14, 13,  9, 13,  9, 13,  9, 13,  9,  4,  4,  4,\n",
       "        4,  4,  0,  0,  0,  0,  0,  0,  0,  0,  0,  0,  0,  0,  0,  0,  0,\n",
       "        0,  0,  0,  2, 11,  2, 11,  2,  2,  2, 11,  2,  8,  2,  2,  1, 24,\n",
       "        1, 24,  1, 24,  1, 24,  1, 24,  1, 24, 12, 12, 12, 12, 12, 12, 23,\n",
       "       23, 23, 23, 23, 23, 18, 18, 18, 18, 18, 18, 18, 18, 22, 22, 15, 15,\n",
       "       15, 15, 22, 15, 15,  5, 14,  5, 14,  5, 14,  5, 14, 13,  9, 13,  9,\n",
       "       13,  9, 13,  9,  4,  4,  4,  4,  4,  8,  8,  8,  8,  8,  8,  8, 10,\n",
       "       10, 10, 10, 10,  3,  3,  3,  3,  3,  3])"
      ]
     },
     "execution_count": 48,
     "metadata": {},
     "output_type": "execute_result"
    }
   ],
   "source": [
    "np.set_printoptions(threshold=np.inf)\n",
    "kmeans_model.labels_"
   ]
  },
  {
   "cell_type": "code",
   "execution_count": 49,
   "id": "23a700c5",
   "metadata": {},
   "outputs": [],
   "source": [
    "keys = range(25)\n",
    "values = [\n",
    "    \"HEALTHAFF\", \"AL1CHILDQUIET\", \"AL1CHILDAGGR\", \"AL1CHILDBEDW\",\n",
    "    \"AL1CHILDNIGHT\", \"AL1CHILDRSCH\", \"AL1CHILDDSCH\", \"DISWORK\",\n",
    "    \"SUICIDEATT\", \"ABOR\", \"MISC\", \"STILB\", \"HEALTHSTA\", \"HURT\",\n",
    "    \"INJ\", \"LOSCONF\", \"LOSCONS\", \"PAIN\", \"PROBWALK\", \"PROBMEM\",\n",
    "    \"PROBUSUAL\", \"EMODIST\", \"SUICIDETHI\", \"CONCENTRATE\", \"WORK\"\n",
    "]\n",
    "dicts = {}\n",
    "\n",
    "for i in keys:\n",
    "    dicts[i] = values[i]\n",
    "\n",
    "labels_names = []    \n",
    "\n",
    "for index, label in enumerate(kmeans_model.labels_):\n",
    "    for key, value in dicts.items():\n",
    "        if label == key:\n",
    "            labels_names.append(value)\n",
    "            \n",
    "unlabeled_df[\"OUTCOME: Outcome\"] = labels_names"
   ]
  },
  {
   "cell_type": "code",
   "execution_count": 50,
   "id": "610a07e1",
   "metadata": {},
   "outputs": [],
   "source": [
    "final_df = pd.concat([df, unlabeled_df])"
   ]
  },
  {
   "cell_type": "code",
   "execution_count": 51,
   "id": "c48656f5",
   "metadata": {},
   "outputs": [
    {
     "data": {
      "text/plain": [
       "INJ              157\n",
       "AL1CHILDAGGR     141\n",
       "AL1CHILDNIGHT     96\n",
       "ABOR              96\n",
       "LOSCONS           90\n",
       "SUICIDEATT        88\n",
       "PROBWALK          84\n",
       "AL1CHILDRSCH      80\n",
       "HURT              80\n",
       "MISC              77\n",
       "AL1CHILDQUIET     76\n",
       "HEALTHSTA         76\n",
       "CONCENTRATE       76\n",
       "DISWORK           73\n",
       "PROBUSUAL         70\n",
       "AL1CHILDBEDW      70\n",
       "LOSCONF           70\n",
       "WORK              70\n",
       "HEALTHAFF         69\n",
       "EMODIST           68\n",
       "SUICIDETHI        64\n",
       "PAIN              63\n",
       "PROBMEM           62\n",
       "STILB             62\n",
       "AL1CHILDDSCH      58\n",
       "Name: OUTCOME: Outcome, dtype: int64"
      ]
     },
     "execution_count": 51,
     "metadata": {},
     "output_type": "execute_result"
    }
   ],
   "source": [
    "final_df[\"OUTCOME: Outcome\"].value_counts()"
   ]
  },
  {
   "cell_type": "code",
   "execution_count": 53,
   "id": "9f3c8973",
   "metadata": {},
   "outputs": [
    {
     "name": "stdout",
     "output_type": "stream",
     "text": [
      "Model: LogisticRegression\n",
      "Total Training Time: 8.156\n",
      "\n",
      "Average Accuracy Score: 77.83%\n",
      "Average Precision Score: 77.71%\n",
      "Average Recall Score: 76.45%\n",
      "Average F1 Score: 75.37%\n",
      "============================================================\n",
      "Model: DecisionTreeClassifier\n",
      "Total Training Time: 9.701\n",
      "\n",
      "Average Accuracy Score: 71.38%\n",
      "Average Precision Score: 71.34%\n",
      "Average Recall Score: 70.28%\n",
      "Average F1 Score: 69.2%\n",
      "============================================================\n",
      "Model: RandomForestClassifier\n",
      "Total Training Time: 36.067\n",
      "\n",
      "Average Accuracy Score: 76.88%\n",
      "Average Precision Score: 77.01%\n",
      "Average Recall Score: 75.41%\n",
      "Average F1 Score: 74.39%\n",
      "============================================================\n",
      "Model: KNeighborsClassifier\n",
      "Total Training Time: 2.979\n",
      "\n",
      "Average Accuracy Score: 72.27%\n",
      "Average Precision Score: 72.2%\n",
      "Average Recall Score: 71.12%\n",
      "Average F1 Score: 69.62%\n",
      "============================================================\n",
      "Model: GaussianNB\n",
      "Total Training Time: 2.973\n",
      "\n",
      "Average Accuracy Score: 40.53%\n",
      "Average Precision Score: 38.54%\n",
      "Average Recall Score: 38.37%\n",
      "Average F1 Score: 33.6%\n",
      "============================================================\n",
      "Model: MLPClassifier\n",
      "Total Training Time: 78.377\n",
      "\n",
      "Average Accuracy Score: 76.14%\n",
      "Average Precision Score: 76.15%\n",
      "Average Recall Score: 74.7%\n",
      "Average F1 Score: 73.58%\n",
      "============================================================\n",
      "Model: SVC\n",
      "Total Training Time: 14.604\n",
      "\n",
      "Average Accuracy Score: 76.74%\n",
      "Average Precision Score: 78.64%\n",
      "Average Recall Score: 76.05%\n",
      "Average F1 Score: 74.89%\n",
      "============================================================\n",
      "Model: XGBClassifier\n",
      "Total Training Time: 204.288\n",
      "\n",
      "Average Accuracy Score: 76.49%\n",
      "Average Precision Score: 75.83%\n",
      "Average Recall Score: 74.82%\n",
      "Average F1 Score: 73.66%\n",
      "============================================================\n"
     ]
    }
   ],
   "source": [
    "prepare_data_for_model(final_df, True)"
   ]
  },
  {
   "cell_type": "markdown",
   "id": "04b36323",
   "metadata": {},
   "source": [
    "## Saving final dataset with filled values"
   ]
  },
  {
   "cell_type": "code",
   "execution_count": 52,
   "id": "d1d907b7",
   "metadata": {},
   "outputs": [],
   "source": [
    "# Get all numerical and categorical column names\n",
    "numerical_columns = [col for col in final_df.columns if final_df[col].dtype != \"O\"]\n",
    "categorical_columns = [col for col in final_df.columns if final_df[col].dtype == \"O\"]\n",
    "categorical_columns.remove(\"OUTCOME: Outcome\")"
   ]
  },
  {
   "cell_type": "code",
   "execution_count": 53,
   "id": "ad677f9a",
   "metadata": {},
   "outputs": [],
   "source": [
    "# Seperate final_df into numerical features and categorical\n",
    "final_df_numerical = final_df[numerical_columns]\n",
    "final_df_categorical = final_df[categorical_columns]"
   ]
  },
  {
   "cell_type": "code",
   "execution_count": 54,
   "id": "b81948dc",
   "metadata": {},
   "outputs": [],
   "source": [
    "# Impute missing values of numerical features\n",
    "imp_numerical = KNNImputer()\n",
    "final_df_numerical = imp_numerical.fit_transform(final_df_numerical)"
   ]
  },
  {
   "cell_type": "code",
   "execution_count": 55,
   "id": "bc38f510",
   "metadata": {},
   "outputs": [],
   "source": [
    "# Impute missing values of categorical features\n",
    "categorical_imp = SimpleImputer(missing_values=np.nan, strategy=\"most_frequent\")\n",
    "final_df_categorical = categorical_imp.fit_transform(final_df_categorical)"
   ]
  },
  {
   "cell_type": "code",
   "execution_count": 65,
   "id": "d2d90584",
   "metadata": {},
   "outputs": [],
   "source": [
    "# Merge categorical and numerical features into X variable\n",
    "final_df = pd.concat([\n",
    "    pd.DataFrame(final_df_categorical, columns=categorical_columns),\n",
    "    pd.DataFrame(final_df_numerical, columns=numerical_columns),\n",
    "    pd.DataFrame(final_df[\"OUTCOME: Outcome\"], columns=[\"OUTCOME: Outcome\"]),\n",
    "], axis=1)"
   ]
  },
  {
   "cell_type": "code",
   "execution_count": 66,
   "id": "900f4eea",
   "metadata": {},
   "outputs": [],
   "source": [
    "final_df.to_csv(\"data/VAW_FINAL.csv\", index=False)"
   ]
  }
 ],
 "metadata": {
  "kernelspec": {
   "display_name": "Python 3 (ipykernel)",
   "language": "python",
   "name": "python3"
  },
  "language_info": {
   "codemirror_mode": {
    "name": "ipython",
    "version": 3
   },
   "file_extension": ".py",
   "mimetype": "text/x-python",
   "name": "python",
   "nbconvert_exporter": "python",
   "pygments_lexer": "ipython3",
   "version": "3.8.12"
  },
  "varInspector": {
   "cols": {
    "lenName": 16,
    "lenType": 16,
    "lenVar": 40
   },
   "kernels_config": {
    "python": {
     "delete_cmd_postfix": "",
     "delete_cmd_prefix": "del ",
     "library": "var_list.py",
     "varRefreshCmd": "print(var_dic_list())"
    },
    "r": {
     "delete_cmd_postfix": ") ",
     "delete_cmd_prefix": "rm(",
     "library": "var_list.r",
     "varRefreshCmd": "cat(var_dic_list()) "
    }
   },
   "types_to_exclude": [
    "module",
    "function",
    "builtin_function_or_method",
    "instance",
    "_Feature"
   ],
   "window_display": false
  }
 },
 "nbformat": 4,
 "nbformat_minor": 5
}
